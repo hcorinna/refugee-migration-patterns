{
 "cells": [
  {
   "cell_type": "markdown",
   "metadata": {},
   "source": [
    "## Normalized Edge Weights\n",
    "\n",
    "Calculate the share of persons of concern based on the country's population"
   ]
  },
  {
   "cell_type": "code",
   "execution_count": 1,
   "metadata": {},
   "outputs": [],
   "source": [
    "import pandas as pd\n",
    "import numpy as np"
   ]
  },
  {
   "cell_type": "code",
   "execution_count": 2,
   "metadata": {},
   "outputs": [],
   "source": [
    "df_population = pd.read_csv('../data/world_population_by_year.csv', skiprows=4)\n",
    "\n",
    "df_country_list = pd.read_csv('../data/country_list.csv')\n",
    "\n",
    "df_countries = pd.read_csv('../data/UNHCR_country_names.csv')\n",
    "df_countries.columns = [\"iso\",\"unhcr\",\"display_titles\",\"display_article\",\"notes\"]\n",
    "\n",
    "df_timeseries = pd.read_csv('../data/unhcr_popstats_export_time_series_all_data.csv', skiprows=3, encoding='latin-1', dtype={\"Value\": object})\n",
    "df_timeseries = df_timeseries.replace(to_replace='*', value='2')\n",
    "df_timeseries['Value'] = df_timeseries['Value'].astype(np.int64)\n",
    "df_timeseries.columns = [\"year\",\"origin\",\"destination\",\"type\",\"value\"]"
   ]
  },
  {
   "cell_type": "markdown",
   "metadata": {},
   "source": [
    "1. Add ISO codes\n",
    "2. Get population from csv for each country / year\n",
    "3. Calculate share"
   ]
  },
  {
   "cell_type": "markdown",
   "metadata": {},
   "source": [
    "Change country names, so that they match the ones in `UNHCR_country_names.csv`"
   ]
  },
  {
   "cell_type": "code",
   "execution_count": 3,
   "metadata": {},
   "outputs": [],
   "source": [
    "df_timeseries['origin'].replace(\"Palestinian\", \"State of Palestine\",inplace=True)\n",
    "df_timeseries['origin'].replace(\"Dem. People's Rep. of Korea\", \"Rep. of Korea\",inplace=True)"
   ]
  },
  {
   "cell_type": "code",
   "execution_count": 4,
   "metadata": {},
   "outputs": [
    {
     "data": {
      "text/html": [
       "<div>\n",
       "<style scoped>\n",
       "    .dataframe tbody tr th:only-of-type {\n",
       "        vertical-align: middle;\n",
       "    }\n",
       "\n",
       "    .dataframe tbody tr th {\n",
       "        vertical-align: top;\n",
       "    }\n",
       "\n",
       "    .dataframe thead th {\n",
       "        text-align: right;\n",
       "    }\n",
       "</style>\n",
       "<table border=\"1\" class=\"dataframe\">\n",
       "  <thead>\n",
       "    <tr style=\"text-align: right;\">\n",
       "      <th></th>\n",
       "      <th>year</th>\n",
       "      <th>origin</th>\n",
       "      <th>destination</th>\n",
       "      <th>type</th>\n",
       "      <th>value</th>\n",
       "      <th>iso</th>\n",
       "    </tr>\n",
       "  </thead>\n",
       "  <tbody>\n",
       "    <tr>\n",
       "      <th>0</th>\n",
       "      <td>1951</td>\n",
       "      <td>Australia</td>\n",
       "      <td>Various/Unknown</td>\n",
       "      <td>Refugees (incl. refugee-like situations)</td>\n",
       "      <td>180000</td>\n",
       "      <td>AUS</td>\n",
       "    </tr>\n",
       "    <tr>\n",
       "      <th>1</th>\n",
       "      <td>1951</td>\n",
       "      <td>Austria</td>\n",
       "      <td>Various/Unknown</td>\n",
       "      <td>Refugees (incl. refugee-like situations)</td>\n",
       "      <td>282000</td>\n",
       "      <td>AUT</td>\n",
       "    </tr>\n",
       "    <tr>\n",
       "      <th>2</th>\n",
       "      <td>1951</td>\n",
       "      <td>Belgium</td>\n",
       "      <td>Various/Unknown</td>\n",
       "      <td>Refugees (incl. refugee-like situations)</td>\n",
       "      <td>55000</td>\n",
       "      <td>BEL</td>\n",
       "    </tr>\n",
       "    <tr>\n",
       "      <th>3</th>\n",
       "      <td>1951</td>\n",
       "      <td>Canada</td>\n",
       "      <td>Various/Unknown</td>\n",
       "      <td>Refugees (incl. refugee-like situations)</td>\n",
       "      <td>168511</td>\n",
       "      <td>CAN</td>\n",
       "    </tr>\n",
       "    <tr>\n",
       "      <th>4</th>\n",
       "      <td>1951</td>\n",
       "      <td>China, Hong Kong SAR</td>\n",
       "      <td>Various/Unknown</td>\n",
       "      <td>Refugees (incl. refugee-like situations)</td>\n",
       "      <td>30000</td>\n",
       "      <td>HKG</td>\n",
       "    </tr>\n",
       "  </tbody>\n",
       "</table>\n",
       "</div>"
      ],
      "text/plain": [
       "   year                origin      destination  \\\n",
       "0  1951             Australia  Various/Unknown   \n",
       "1  1951               Austria  Various/Unknown   \n",
       "2  1951               Belgium  Various/Unknown   \n",
       "3  1951                Canada  Various/Unknown   \n",
       "4  1951  China, Hong Kong SAR  Various/Unknown   \n",
       "\n",
       "                                       type   value  iso  \n",
       "0  Refugees (incl. refugee-like situations)  180000  AUS  \n",
       "1  Refugees (incl. refugee-like situations)  282000  AUT  \n",
       "2  Refugees (incl. refugee-like situations)   55000  BEL  \n",
       "3  Refugees (incl. refugee-like situations)  168511  CAN  \n",
       "4  Refugees (incl. refugee-like situations)   30000  HKG  "
      ]
     },
     "execution_count": 4,
     "metadata": {},
     "output_type": "execute_result"
    }
   ],
   "source": [
    "# Use UNHCR codes from country_list.csv\n",
    "for index, country in df_country_list.iterrows():\n",
    "    df_timeseries.loc[df_timeseries['origin'] == country['name_en'], 'iso'] = country['country_code']\n",
    "    \n",
    "# Overwrite codes with UNHCR_country_names.csv when possible\n",
    "for index, country in df_countries.iterrows():\n",
    "    df_timeseries.loc[df_timeseries['origin'] == country['unhcr'], 'iso'] = country['iso']\n",
    "\n",
    "# Manual fixes\n",
    "df_timeseries['iso'].replace(\"WES\", \"WSM\",inplace=True) # Samoa\n",
    "df_timeseries['iso'].replace(\"SEY\", \"SYC\",inplace=True) # Seychelles\n",
    "\n",
    "df_timeseries.head()"
   ]
  },
  {
   "cell_type": "markdown",
   "metadata": {},
   "source": [
    "Check whether there are any countries for which we do not have a code (except `'Various/Unknown'`)\n",
    "-> We have all codes"
   ]
  },
  {
   "cell_type": "code",
   "execution_count": 5,
   "metadata": {},
   "outputs": [
    {
     "data": {
      "text/html": [
       "<div>\n",
       "<style scoped>\n",
       "    .dataframe tbody tr th:only-of-type {\n",
       "        vertical-align: middle;\n",
       "    }\n",
       "\n",
       "    .dataframe tbody tr th {\n",
       "        vertical-align: top;\n",
       "    }\n",
       "\n",
       "    .dataframe thead th {\n",
       "        text-align: right;\n",
       "    }\n",
       "</style>\n",
       "<table border=\"1\" class=\"dataframe\">\n",
       "  <thead>\n",
       "    <tr style=\"text-align: right;\">\n",
       "      <th></th>\n",
       "      <th>year</th>\n",
       "      <th>origin</th>\n",
       "      <th>destination</th>\n",
       "      <th>type</th>\n",
       "      <th>value</th>\n",
       "      <th>iso</th>\n",
       "    </tr>\n",
       "  </thead>\n",
       "  <tbody>\n",
       "  </tbody>\n",
       "</table>\n",
       "</div>"
      ],
      "text/plain": [
       "Empty DataFrame\n",
       "Columns: [year, origin, destination, type, value, iso]\n",
       "Index: []"
      ]
     },
     "execution_count": 5,
     "metadata": {},
     "output_type": "execute_result"
    }
   ],
   "source": [
    "df_timeseries.loc[df_timeseries['iso'].isnull() & (df_timeseries['origin'] != \"Various/Unknown\")]"
   ]
  },
  {
   "cell_type": "markdown",
   "metadata": {},
   "source": [
    "For the following countries, we don't have historic data on the population. In these cases, we could resort to manually fixing a number from another data source. "
   ]
  },
  {
   "cell_type": "code",
   "execution_count": 7,
   "metadata": {},
   "outputs": [
    {
     "name": "stdout",
     "output_type": "stream",
     "text": [
      "nan\n",
      "GUF\n",
      "ANT\n",
      "MSR\n",
      "AIA\n"
     ]
    }
   ],
   "source": [
    "for iso in df_timeseries['iso'].unique():\n",
    "    if not any(df_population['Country Code'] == iso):\n",
    "        print(iso)"
   ]
  },
  {
   "cell_type": "markdown",
   "metadata": {},
   "source": [
    "Add column for percentages."
   ]
  },
  {
   "cell_type": "code",
   "execution_count": 9,
   "metadata": {},
   "outputs": [],
   "source": [
    "df_timeseries['share'] = np.nan"
   ]
  },
  {
   "cell_type": "markdown",
   "metadata": {},
   "source": [
    "This is only performed once to create the new csv file, so performance is secondary."
   ]
  },
  {
   "cell_type": "code",
   "execution_count": 10,
   "metadata": {},
   "outputs": [],
   "source": [
    "for index, country in df_population.iterrows():\n",
    "    for index, edge in df_timeseries.loc[(df_timeseries['iso'] == country['Country Code']) & (df_timeseries['year'] >= 1960)].iterrows():\n",
    "        year = str(edge['year'])\n",
    "        share = edge['value'] / country[year]\n",
    "        df_timeseries.loc[index,'share'] = share"
   ]
  },
  {
   "cell_type": "markdown",
   "metadata": {},
   "source": [
    "**Missing shares**:\n",
    "\n",
    "* SRB: Data only from 1990 on\n",
    "* GUF: No data\n",
    "* KWT: Missing data 1992 - 1994\n",
    "* MSR: No data\n",
    "* ERI: Missing data from 2012 on\n",
    "* AIA: No data"
   ]
  },
  {
   "cell_type": "code",
   "execution_count": 11,
   "metadata": {},
   "outputs": [
    {
     "data": {
      "text/plain": [
       "array(['SRB', 'GUF', 'KWT', 'ANT', 'MSR', 'ERI', 'AIA'], dtype=object)"
      ]
     },
     "execution_count": 11,
     "metadata": {},
     "output_type": "execute_result"
    }
   ],
   "source": [
    "df_timeseries.loc[df_timeseries['share'].isnull() & (df_timeseries['year'] >= 1960) & (df_timeseries['origin'] != \"Various/Unknown\")]['iso'].unique()"
   ]
  },
  {
   "cell_type": "markdown",
   "metadata": {},
   "source": [
    "Fix missing data"
   ]
  },
  {
   "cell_type": "code",
   "execution_count": 18,
   "metadata": {},
   "outputs": [],
   "source": [
    "# ANT\n",
    "for index, edge in df_timeseries.loc[(df_timeseries['iso'] == 'ANT') & (df_timeseries['year'] >= 1960)].iterrows():\n",
    "        year = str(edge['year'])\n",
    "        share = edge['value'] / 304759 # Source: https://en.wikipedia.org/wiki/Netherlands_Antilles (Accessed February 12, 2019)\n",
    "        df_timeseries.loc[index,'share'] = share\n",
    "        \n",
    "# MSR\n",
    "for index, edge in df_timeseries.loc[(df_timeseries['iso'] == 'MSR') & (df_timeseries['year'] >= 1960)].iterrows():\n",
    "        year = str(edge['year'])\n",
    "        share = edge['value'] / 296711 # Source: https://en.wikipedia.org/wiki/Montserrat (Accessed February 12, 2019)\n",
    "        df_timeseries.loc[index,'share'] = share\n",
    "        \n",
    "# AIA\n",
    "for index, edge in df_timeseries.loc[(df_timeseries['iso'] == 'AIA') & (df_timeseries['year'] >= 1960)].iterrows():\n",
    "        year = str(edge['year'])\n",
    "        share = edge['value'] / 14764 # Source: https://en.wikipedia.org/wiki/Anguilla (Accessed February 12, 2019)\n",
    "        df_timeseries.loc[index,'share'] = share\n",
    "        \n",
    "# GUF\n",
    "for index, edge in df_timeseries.loc[(df_timeseries['iso'] == 'GUF') & (df_timeseries['year'] >= 1960)].iterrows():\n",
    "        year = str(edge['year'])\n",
    "        share = edge['value'] / 296711 # Source: https://en.wikipedia.org/wiki/Netherlands_Antilles (Accessed February 12, 2019)\n",
    "        df_timeseries.loc[index,'share'] = share\n",
    "\n",
    "# KWT\n",
    "for index, edge in df_timeseries.loc[(df_timeseries['iso'] == 'KWT') & (df_timeseries['year'] >= 1992) & (df_timeseries['year'] <= 1994)].iterrows():\n",
    "        year = str(edge['year'])\n",
    "        share = edge['value'] / ((2035661 + 1610651) / 2) # Average of 1991 and 1995 (world_population_by_year.csv)\n",
    "        df_timeseries.loc[index,'share'] = share\n",
    "        \n",
    "# SRB\n",
    "for index, edge in df_timeseries.loc[(df_timeseries['iso'] == 'SRB') & (df_timeseries['year'] <= 1989)].iterrows():\n",
    "        year = str(edge['year'])\n",
    "        share = edge['value'] / 7586000 # From 1990 (world_population_by_year.csv)\n",
    "        df_timeseries.loc[index,'share'] = share\n",
    "        \n",
    "# ERI\n",
    "for index, edge in df_timeseries.loc[(df_timeseries['iso'] == 'ERI') & (df_timeseries['year'] >= 2012)].iterrows():\n",
    "        year = str(edge['year'])\n",
    "        share = edge['value'] / 4474690 # From 2011 (world_population_by_year.csv)\n",
    "        df_timeseries.loc[index,'share'] = share"
   ]
  },
  {
   "cell_type": "code",
   "execution_count": 19,
   "metadata": {},
   "outputs": [
    {
     "data": {
      "text/plain": [
       "array([], dtype=object)"
      ]
     },
     "execution_count": 19,
     "metadata": {},
     "output_type": "execute_result"
    }
   ],
   "source": [
    "df_timeseries.loc[df_timeseries['share'].isnull() & (df_timeseries['year'] >= 1960) & (df_timeseries['origin'] != \"Various/Unknown\")]['iso'].unique()"
   ]
  },
  {
   "cell_type": "markdown",
   "metadata": {},
   "source": [
    "**TODO:**\n",
    "* ANT -> NLD? -> fix population\n",
    "* Fix population for GUF, MSR, AIA\n",
    "* KWT, ERI: Use data from other years\n",
    "* How to handle various/unknown?"
   ]
  },
  {
   "cell_type": "code",
   "execution_count": 80,
   "metadata": {},
   "outputs": [],
   "source": [
    "df_timeseries.to_csv('../data/unhcr_time_series_normalized.csv', encoding='utf-8', index=False)"
   ]
  }
 ],
 "metadata": {
  "kernelspec": {
   "display_name": "Python 3",
   "language": "python",
   "name": "python3"
  },
  "language_info": {
   "codemirror_mode": {
    "name": "ipython",
    "version": 3
   },
   "file_extension": ".py",
   "mimetype": "text/x-python",
   "name": "python",
   "nbconvert_exporter": "python",
   "pygments_lexer": "ipython3",
   "version": "3.6.5"
  }
 },
 "nbformat": 4,
 "nbformat_minor": 2
}
