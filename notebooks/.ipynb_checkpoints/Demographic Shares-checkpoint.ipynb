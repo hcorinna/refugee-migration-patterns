{
 "cells": [
  {
   "cell_type": "code",
   "execution_count": 11,
   "metadata": {},
   "outputs": [],
   "source": [
    "from pandas import DataFrame, read_csv\n",
    "import matplotlib.pyplot as plt\n",
    "import pandas as pd"
   ]
  },
  {
   "cell_type": "code",
   "execution_count": 69,
   "metadata": {},
   "outputs": [
    {
     "data": {
      "text/plain": [
       "Year                                         int64\n",
       "Country / territory of asylum/residence     object\n",
       "Location Name                               object\n",
       "Female 0-4                                 float64\n",
       "Female 5-11                                float64\n",
       "Female 5-17                                float64\n",
       "Female 12-17                               float64\n",
       "Female 18-59                               float64\n",
       "Female 60+                                 float64\n",
       "F: Unknown                                 float64\n",
       "F: Total                                     int64\n",
       "Male 0-4                                   float64\n",
       "Male 5-11                                  float64\n",
       "Male 5-17                                  float64\n",
       "Male 12-17                                 float64\n",
       "Male 18-59                                 float64\n",
       "Male 60+                                   float64\n",
       "M: Unknown                                 float64\n",
       "M: Total                                     int64\n",
       "Total                                        int64\n",
       "dtype: object"
      ]
     },
     "execution_count": 69,
     "metadata": {},
     "output_type": "execute_result"
    }
   ],
   "source": [
    "file = r'../data/unhcr_popstats_export_demographics_all_data.csv'\n",
    "df = pd.read_csv(file, header=3)\n",
    "df = df.replace(to_replace='*', value=\"2\")\n",
    "df['Total'] = df['F: Total'] + df['M: Total']\n",
    "df.iloc[:, 3:20] = df.iloc[:, 3:20].apply(pd.to_numeric)\n",
    "df.dtypes"
   ]
  },
  {
   "cell_type": "code",
   "execution_count": 74,
   "metadata": {},
   "outputs": [],
   "source": [
    "def calculate_share(demographic):\n",
    "    df[demographic + '_share'] = df[demographic] / df['Total']"
   ]
  },
  {
   "cell_type": "code",
   "execution_count": 83,
   "metadata": {},
   "outputs": [
    {
     "data": {
      "text/plain": [
       "['Year',\n",
       " 'Female 0-4',\n",
       " 'Female 5-11',\n",
       " 'Female 5-17',\n",
       " 'Female 12-17',\n",
       " 'Female 18-59',\n",
       " 'Female 60+',\n",
       " 'F: Unknown',\n",
       " 'F: Total',\n",
       " 'Male 0-4',\n",
       " 'Male 5-11',\n",
       " 'Male 5-17',\n",
       " 'Male 12-17',\n",
       " 'Male 18-59',\n",
       " 'Male 60+',\n",
       " 'M: Unknown',\n",
       " 'M: Total',\n",
       " 'Total',\n",
       " 'Female 5-11_share',\n",
       " 'Year_share',\n",
       " 'Female 0-4_share',\n",
       " 'Female 5-17_share',\n",
       " 'Female 12-17_share',\n",
       " 'Female 18-59_share',\n",
       " 'Female 60+_share',\n",
       " 'F: Unknown_share',\n",
       " 'F: Total_share',\n",
       " 'Male 0-4_share',\n",
       " 'Male 5-11_share',\n",
       " 'Male 5-17_share',\n",
       " 'Male 12-17_share',\n",
       " 'Male 18-59_share',\n",
       " 'Male 60+_share',\n",
       " 'M: Unknown_share',\n",
       " 'M: Total_share']"
      ]
     },
     "execution_count": 83,
     "metadata": {},
     "output_type": "execute_result"
    }
   ],
   "source": [
    "for column in [key for key in dict(df.iloc[:, 3:19].dtypes) if dict(df.iloc[:, 3:19].dtypes)[key] in ['float64', 'int64']]:\n",
    "    calculate_share(column)"
   ]
  }
 ],
 "metadata": {
  "kernelspec": {
   "display_name": "Python 3",
   "language": "python",
   "name": "python3"
  },
  "language_info": {
   "codemirror_mode": {
    "name": "ipython",
    "version": 3
   },
   "file_extension": ".py",
   "mimetype": "text/x-python",
   "name": "python",
   "nbconvert_exporter": "python",
   "pygments_lexer": "ipython3",
   "version": "3.6.5"
  }
 },
 "nbformat": 4,
 "nbformat_minor": 2
}
