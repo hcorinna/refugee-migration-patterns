{
 "cells": [
  {
   "cell_type": "code",
   "execution_count": 11,
   "metadata": {},
   "outputs": [],
   "source": [
    "from pandas import DataFrame, read_csv\n",
    "import matplotlib.pyplot as plt\n",
    "import pandas as pd"
   ]
  },
  {
   "cell_type": "code",
   "execution_count": 56,
   "metadata": {},
   "outputs": [
    {
     "data": {
      "text/plain": [
       "Year                                         int64\n",
       "Country / territory of asylum/residence     object\n",
       "Location Name                               object\n",
       "Female 0-4                                  object\n",
       "Female 5-11                                 object\n",
       "Female 5-17                                float64\n",
       "Female 12-17                                object\n",
       "Female 18-59                                object\n",
       "Female 60+                                  object\n",
       "F: Unknown                                 float64\n",
       "F: Total                                    object\n",
       "Male 0-4                                    object\n",
       "Male 5-11                                   object\n",
       "Male 5-17                                  float64\n",
       "Male 12-17                                  object\n",
       "Male 18-59                                  object\n",
       "Male 60+                                    object\n",
       "M: Unknown                                 float64\n",
       "M: Total                                    object\n",
       "Total                                        int64\n",
       "dtype: object"
      ]
     },
     "execution_count": 56,
     "metadata": {},
     "output_type": "execute_result"
    }
   ],
   "source": [
    "file = r'../data/unhcr_popstats_export_demographics_all_data.csv'\n",
    "df = pd.read_csv(file, header=3)\n",
    "df = df.replace(to_replace='*', value=\"2\")\n",
    "df['Total'] = df['F: Total'] + df['M: Total']\n",
    "df['Total'] = pd.to_numeric(df['Total'])\n",
    "df.dtypes"
   ]
  },
  {
   "cell_type": "code",
   "execution_count": 57,
   "metadata": {},
   "outputs": [],
   "source": [
    "def calculate_share(demographic):\n",
    "    df[demographic + '_share'] = df[demographic] / df['Total']"
   ]
  },
  {
   "cell_type": "code",
   "execution_count": 61,
   "metadata": {},
   "outputs": [
    {
     "name": "stdout",
     "output_type": "stream",
     "text": [
      "0        0.000000e+00\n",
      "1        6.972428e-07\n",
      "2        0.000000e+00\n",
      "3        0.000000e+00\n",
      "4        0.000000e+00\n",
      "5        0.000000e+00\n",
      "6        0.000000e+00\n",
      "7        0.000000e+00\n",
      "8        0.000000e+00\n",
      "9        0.000000e+00\n",
      "10       0.000000e+00\n",
      "11       0.000000e+00\n",
      "12       0.000000e+00\n",
      "13       0.000000e+00\n",
      "14       0.000000e+00\n",
      "15       0.000000e+00\n",
      "16       0.000000e+00\n",
      "17       0.000000e+00\n",
      "18       0.000000e+00\n",
      "19       0.000000e+00\n",
      "20       0.000000e+00\n",
      "21       0.000000e+00\n",
      "22       0.000000e+00\n",
      "23       0.000000e+00\n",
      "24       0.000000e+00\n",
      "25       0.000000e+00\n",
      "26       0.000000e+00\n",
      "27       0.000000e+00\n",
      "28       0.000000e+00\n",
      "29       0.000000e+00\n",
      "             ...     \n",
      "18508             NaN\n",
      "18509             NaN\n",
      "18510             NaN\n",
      "18511             NaN\n",
      "18512             NaN\n",
      "18513             NaN\n",
      "18514             NaN\n",
      "18515             NaN\n",
      "18516             NaN\n",
      "18517             NaN\n",
      "18518             NaN\n",
      "18519             NaN\n",
      "18520             NaN\n",
      "18521             NaN\n",
      "18522             NaN\n",
      "18523             NaN\n",
      "18524             NaN\n",
      "18525             NaN\n",
      "18526             NaN\n",
      "18527             NaN\n",
      "18528             NaN\n",
      "18529             NaN\n",
      "18530             NaN\n",
      "18531             NaN\n",
      "18532             NaN\n",
      "18533             NaN\n",
      "18534             NaN\n",
      "18535             NaN\n",
      "18536             NaN\n",
      "18537             NaN\n",
      "Name: F: Unknown_share, Length: 18538, dtype: float64\n"
     ]
    }
   ],
   "source": [
    "calculate_share('F: Unknown')\n",
    "print(df['F: Unknown_share'])"
   ]
  }
 ],
 "metadata": {
  "kernelspec": {
   "display_name": "Python 3",
   "language": "python",
   "name": "python3"
  },
  "language_info": {
   "codemirror_mode": {
    "name": "ipython",
    "version": 3
   },
   "file_extension": ".py",
   "mimetype": "text/x-python",
   "name": "python",
   "nbconvert_exporter": "python",
   "pygments_lexer": "ipython3",
   "version": "3.6.5"
  }
 },
 "nbformat": 4,
 "nbformat_minor": 2
}
