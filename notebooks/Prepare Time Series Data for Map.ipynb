{
 "cells": [
  {
   "cell_type": "markdown",
   "metadata": {},
   "source": [
    "## Prepare Time Series Data for Map\n",
    "\n",
    "* Normalize edge weights: Calculate the share of persons of concern based on the country's population\n",
    "* Filter out data pre 2008\n",
    "* Filter out `'Various/Unknown'` and `'Stateless'`"
   ]
  },
  {
   "cell_type": "code",
   "execution_count": 3,
   "metadata": {},
   "outputs": [],
   "source": [
    "import pandas as pd\n",
    "import numpy as np"
   ]
  },
  {
   "cell_type": "code",
   "execution_count": 10,
   "metadata": {},
   "outputs": [],
   "source": [
    "df_population = pd.read_csv('../data/world_population_by_year.csv', skiprows=4)\n",
    "\n",
    "df_timeseries = pd.read_csv('../data/unhcr_time_series_iso.csv')"
   ]
  },
  {
   "cell_type": "markdown",
   "metadata": {},
   "source": [
    "1. Get population from csv for each country / year\n",
    "2. Calculate share"
   ]
  },
  {
   "cell_type": "markdown",
   "metadata": {},
   "source": [
    "For the following countries, we don't have historic data on the population. In these cases, we resort to manually fixing a number from another data source. "
   ]
  },
  {
   "cell_type": "code",
   "execution_count": 11,
   "metadata": {},
   "outputs": [
    {
     "name": "stdout",
     "output_type": "stream",
     "text": [
      "nan\n",
      "GUF\n",
      "ANT\n",
      "MSR\n",
      "AIA\n"
     ]
    }
   ],
   "source": [
    "for iso in df_timeseries['iso-origin'].unique():\n",
    "    if not any(df_population['Country Code'] == iso):\n",
    "        print(iso)"
   ]
  },
  {
   "cell_type": "markdown",
   "metadata": {},
   "source": [
    "Add column for percentages."
   ]
  },
  {
   "cell_type": "code",
   "execution_count": 12,
   "metadata": {},
   "outputs": [],
   "source": [
    "df_timeseries['share'] = np.nan"
   ]
  },
  {
   "cell_type": "markdown",
   "metadata": {},
   "source": [
    "This is only performed once to create the new csv file, so performance is secondary."
   ]
  },
  {
   "cell_type": "code",
   "execution_count": 13,
   "metadata": {},
   "outputs": [],
   "source": [
    "for index, country in df_population.iterrows():\n",
    "    for index, edge in df_timeseries.loc[(df_timeseries['iso-origin'] == country['Country Code']) & (df_timeseries['year'] >= 1960)].iterrows():\n",
    "        year = str(edge['year'])\n",
    "        share = edge['value'] / country[year]\n",
    "        df_timeseries.loc[index,'share'] = share"
   ]
  },
  {
   "cell_type": "markdown",
   "metadata": {},
   "source": [
    "**Missing shares**:\n",
    "\n",
    "* SRB: Data only from 1990 on\n",
    "* GUF: No data\n",
    "* KWT: Missing data 1992 - 1994\n",
    "* ANT: No data\n",
    "* MSR: No data\n",
    "* ERI: Missing data from 2012 on\n",
    "* AIA: No data"
   ]
  },
  {
   "cell_type": "code",
   "execution_count": 16,
   "metadata": {},
   "outputs": [
    {
     "data": {
      "text/plain": [
       "array(['SRB', 'GUF', 'KWT', 'ANT', 'MSR', 'ERI', 'AIA'], dtype=object)"
      ]
     },
     "execution_count": 16,
     "metadata": {},
     "output_type": "execute_result"
    }
   ],
   "source": [
    "df_timeseries.loc[df_timeseries['share'].isnull() & (df_timeseries['year'] >= 1960) & (df_timeseries['origin'] != \"Various/Unknown\")]['iso-origin'].unique()"
   ]
  },
  {
   "cell_type": "markdown",
   "metadata": {},
   "source": [
    "Fix missing data"
   ]
  },
  {
   "cell_type": "code",
   "execution_count": 17,
   "metadata": {},
   "outputs": [],
   "source": [
    "# ANT\n",
    "for index, edge in df_timeseries.loc[(df_timeseries['iso-origin'] == 'ANT') & (df_timeseries['year'] >= 1960)].iterrows():\n",
    "        year = str(edge['year'])\n",
    "        share = edge['value'] / 304759 # Source: https://en.wikipedia.org/wiki/Netherlands_Antilles (Accessed February 12, 2019)\n",
    "        df_timeseries.loc[index,'share'] = share\n",
    "        \n",
    "# MSR\n",
    "for index, edge in df_timeseries.loc[(df_timeseries['iso-origin'] == 'MSR') & (df_timeseries['year'] >= 1960)].iterrows():\n",
    "        year = str(edge['year'])\n",
    "        share = edge['value'] / 296711 # Source: https://en.wikipedia.org/wiki/Montserrat (Accessed February 12, 2019)\n",
    "        df_timeseries.loc[index,'share'] = share\n",
    "        \n",
    "# AIA\n",
    "for index, edge in df_timeseries.loc[(df_timeseries['iso-origin'] == 'AIA') & (df_timeseries['year'] >= 1960)].iterrows():\n",
    "        year = str(edge['year'])\n",
    "        share = edge['value'] / 14764 # Source: https://en.wikipedia.org/wiki/Anguilla (Accessed February 12, 2019)\n",
    "        df_timeseries.loc[index,'share'] = share\n",
    "        \n",
    "# GUF\n",
    "for index, edge in df_timeseries.loc[(df_timeseries['iso-origin'] == 'GUF') & (df_timeseries['year'] >= 1960)].iterrows():\n",
    "        year = str(edge['year'])\n",
    "        share = edge['value'] / 296711 # Source: https://en.wikipedia.org/wiki/French_Guiana (Accessed February 12, 2019)\n",
    "        df_timeseries.loc[index,'share'] = share\n",
    "\n",
    "# KWT\n",
    "for index, edge in df_timeseries.loc[(df_timeseries['iso-origin'] == 'KWT') & (df_timeseries['year'] >= 1992) & (df_timeseries['year'] <= 1994)].iterrows():\n",
    "        year = str(edge['year'])\n",
    "        share = edge['value'] / ((2035661 + 1610651) / 2) # Average of 1991 and 1995 (world_population_by_year.csv)\n",
    "        df_timeseries.loc[index,'share'] = share\n",
    "        \n",
    "# SRB\n",
    "for index, edge in df_timeseries.loc[(df_timeseries['iso-origin'] == 'SRB') & (df_timeseries['year'] <= 1989)].iterrows():\n",
    "        year = str(edge['year'])\n",
    "        share = edge['value'] / 7586000 # From 1990 (world_population_by_year.csv)\n",
    "        df_timeseries.loc[index,'share'] = share\n",
    "        \n",
    "# ERI\n",
    "for index, edge in df_timeseries.loc[(df_timeseries['iso-origin'] == 'ERI') & (df_timeseries['year'] >= 2012)].iterrows():\n",
    "        year = str(edge['year'])\n",
    "        share = edge['value'] / 4474690 # From 2011 (world_population_by_year.csv)\n",
    "        df_timeseries.loc[index,'share'] = share"
   ]
  },
  {
   "cell_type": "code",
   "execution_count": 18,
   "metadata": {},
   "outputs": [
    {
     "data": {
      "text/plain": [
       "array([], dtype=object)"
      ]
     },
     "execution_count": 18,
     "metadata": {},
     "output_type": "execute_result"
    }
   ],
   "source": [
    "df_timeseries.loc[df_timeseries['share'].isnull() & (df_timeseries['year'] >= 1960) & (df_timeseries['origin'] != \"Various/Unknown\")]['iso-origin'].unique()"
   ]
  },
  {
   "cell_type": "markdown",
   "metadata": {},
   "source": [
    "Filter out data pre 2008 and without ISO code."
   ]
  },
  {
   "cell_type": "code",
   "execution_count": 20,
   "metadata": {},
   "outputs": [
    {
     "data": {
      "text/html": [
       "<div>\n",
       "<style scoped>\n",
       "    .dataframe tbody tr th:only-of-type {\n",
       "        vertical-align: middle;\n",
       "    }\n",
       "\n",
       "    .dataframe tbody tr th {\n",
       "        vertical-align: top;\n",
       "    }\n",
       "\n",
       "    .dataframe thead th {\n",
       "        text-align: right;\n",
       "    }\n",
       "</style>\n",
       "<table border=\"1\" class=\"dataframe\">\n",
       "  <thead>\n",
       "    <tr style=\"text-align: right;\">\n",
       "      <th></th>\n",
       "      <th>year</th>\n",
       "      <th>origin</th>\n",
       "      <th>destination</th>\n",
       "      <th>type</th>\n",
       "      <th>value</th>\n",
       "      <th>iso-origin</th>\n",
       "      <th>iso-destination</th>\n",
       "      <th>share</th>\n",
       "    </tr>\n",
       "  </thead>\n",
       "  <tbody>\n",
       "    <tr>\n",
       "      <th>81997</th>\n",
       "      <td>2008</td>\n",
       "      <td>Afghanistan</td>\n",
       "      <td>Afghanistan</td>\n",
       "      <td>Internally displaced persons</td>\n",
       "      <td>230670</td>\n",
       "      <td>AFG</td>\n",
       "      <td>AFG</td>\n",
       "      <td>8.451298e-03</td>\n",
       "    </tr>\n",
       "    <tr>\n",
       "      <th>81998</th>\n",
       "      <td>2008</td>\n",
       "      <td>Afghanistan</td>\n",
       "      <td>Afghanistan</td>\n",
       "      <td>Returned IDPs</td>\n",
       "      <td>6453</td>\n",
       "      <td>AFG</td>\n",
       "      <td>AFG</td>\n",
       "      <td>2.364253e-04</td>\n",
       "    </tr>\n",
       "    <tr>\n",
       "      <th>81999</th>\n",
       "      <td>2008</td>\n",
       "      <td>Afghanistan</td>\n",
       "      <td>Eritrea</td>\n",
       "      <td>Asylum-seekers</td>\n",
       "      <td>1</td>\n",
       "      <td>AFG</td>\n",
       "      <td>ERI</td>\n",
       "      <td>3.663805e-08</td>\n",
       "    </tr>\n",
       "    <tr>\n",
       "      <th>82000</th>\n",
       "      <td>2008</td>\n",
       "      <td>Afghanistan</td>\n",
       "      <td>Iran (Islamic Rep. of)</td>\n",
       "      <td>Refugees (incl. refugee-like situations)</td>\n",
       "      <td>30</td>\n",
       "      <td>AFG</td>\n",
       "      <td>IRN</td>\n",
       "      <td>1.099141e-06</td>\n",
       "    </tr>\n",
       "    <tr>\n",
       "      <th>82001</th>\n",
       "      <td>2008</td>\n",
       "      <td>Afghanistan</td>\n",
       "      <td>Iran (Islamic Rep. of)</td>\n",
       "      <td>Asylum-seekers</td>\n",
       "      <td>4</td>\n",
       "      <td>AFG</td>\n",
       "      <td>IRN</td>\n",
       "      <td>1.465522e-07</td>\n",
       "    </tr>\n",
       "  </tbody>\n",
       "</table>\n",
       "</div>"
      ],
      "text/plain": [
       "       year       origin             destination  \\\n",
       "81997  2008  Afghanistan             Afghanistan   \n",
       "81998  2008  Afghanistan             Afghanistan   \n",
       "81999  2008  Afghanistan                 Eritrea   \n",
       "82000  2008  Afghanistan  Iran (Islamic Rep. of)   \n",
       "82001  2008  Afghanistan  Iran (Islamic Rep. of)   \n",
       "\n",
       "                                           type   value iso-origin  \\\n",
       "81997              Internally displaced persons  230670        AFG   \n",
       "81998                             Returned IDPs    6453        AFG   \n",
       "81999                            Asylum-seekers       1        AFG   \n",
       "82000  Refugees (incl. refugee-like situations)      30        AFG   \n",
       "82001                            Asylum-seekers       4        AFG   \n",
       "\n",
       "      iso-destination         share  \n",
       "81997             AFG  8.451298e-03  \n",
       "81998             AFG  2.364253e-04  \n",
       "81999             ERI  3.663805e-08  \n",
       "82000             IRN  1.099141e-06  \n",
       "82001             IRN  1.465522e-07  "
      ]
     },
     "execution_count": 20,
     "metadata": {},
     "output_type": "execute_result"
    }
   ],
   "source": [
    "df_filtered = df_timeseries[(df_timeseries['year'] >= 2008) & (df_timeseries['iso-origin'].notnull()) & (df_timeseries['iso-destination'].notnull())]\n",
    "\n",
    "df_filtered.head()"
   ]
  },
  {
   "cell_type": "code",
   "execution_count": 22,
   "metadata": {},
   "outputs": [],
   "source": [
    "df_filtered.to_csv('../data/unhcr_time_series_normalized.csv', encoding='utf-8', index=False)"
   ]
  }
 ],
 "metadata": {
  "kernelspec": {
   "display_name": "Python 3",
   "language": "python",
   "name": "python3"
  },
  "language_info": {
   "codemirror_mode": {
    "name": "ipython",
    "version": 3
   },
   "file_extension": ".py",
   "mimetype": "text/x-python",
   "name": "python",
   "nbconvert_exporter": "python",
   "pygments_lexer": "ipython3",
   "version": "3.6.5"
  }
 },
 "nbformat": 4,
 "nbformat_minor": 2
}
