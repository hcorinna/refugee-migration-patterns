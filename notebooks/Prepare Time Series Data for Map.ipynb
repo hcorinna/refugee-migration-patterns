{
 "cells": [
  {
   "cell_type": "markdown",
   "metadata": {},
   "source": [
    "## Prepare Time Series Data for Map\n",
    "\n",
    "* Normalize edge weights: Calculate the share of persons of concern based on the country's population\n",
    "* Filter out data pre 2008\n",
    "* Filter out `'Various/Unknown'` and `'Stateless'`"
   ]
  },
  {
   "cell_type": "code",
   "execution_count": 1,
   "metadata": {},
   "outputs": [],
   "source": [
    "import pandas as pd\n",
    "import numpy as np"
   ]
  },
  {
   "cell_type": "code",
   "execution_count": 7,
   "metadata": {},
   "outputs": [],
   "source": [
    "df_population = pd.read_csv('../data/world_population_by_year.csv', skiprows=4)\n",
    "\n",
    "df_timeseries = pd.read_csv('../data/unhcr_time_series_iso.csv')"
   ]
  },
  {
   "cell_type": "markdown",
   "metadata": {},
   "source": [
    "1. Get population from csv for each country / year\n",
    "2. Calculate share"
   ]
  },
  {
   "cell_type": "markdown",
   "metadata": {},
   "source": [
    "For the following countries, we don't have historic data on the population. In these cases, we resort to manually setting a number from another data source. "
   ]
  },
  {
   "cell_type": "code",
   "execution_count": 8,
   "metadata": {},
   "outputs": [
    {
     "name": "stdout",
     "output_type": "stream",
     "text": [
      "nan\n",
      "ESH\n",
      "GUF\n",
      "NIU\n",
      "VAT\n",
      "COK\n",
      "ANT\n",
      "AIA\n",
      "NFK\n",
      "WLF\n",
      "GLP\n",
      "SPM\n",
      "SJM\n"
     ]
    }
   ],
   "source": [
    "for iso in df_timeseries['iso-origin'].unique():\n",
    "    if not any(df_population['Country Code'] == iso):\n",
    "        print(iso)"
   ]
  },
  {
   "cell_type": "markdown",
   "metadata": {},
   "source": [
    "Add column for percentages."
   ]
  },
  {
   "cell_type": "code",
   "execution_count": 9,
   "metadata": {},
   "outputs": [],
   "source": [
    "df_timeseries['share'] = np.nan"
   ]
  },
  {
   "cell_type": "markdown",
   "metadata": {},
   "source": [
    "This is only performed once to create the new csv file, so performance is secondary."
   ]
  },
  {
   "cell_type": "code",
   "execution_count": 10,
   "metadata": {},
   "outputs": [],
   "source": [
    "for index, country in df_population.iterrows():\n",
    "    for index, edge in df_timeseries.loc[(df_timeseries['iso-origin'] == country['Country Code']) & (df_timeseries['year'] >= 1960)].iterrows():\n",
    "        year = str(edge['year'])\n",
    "        share = edge['value'] / country[year]\n",
    "        df_timeseries.loc[index,'share'] = share"
   ]
  },
  {
   "cell_type": "markdown",
   "metadata": {},
   "source": [
    "**Missing shares**:\n",
    "\n",
    "* SRB: Data only from 1990 on\n",
    "* KWT: Missing data 1992 - 1994\n",
    "* ERI: Missing data from 2012 on\n",
    "* PSE: No data\n",
    "* ESH: No data\n",
    "* GUF: No data\n",
    "* NIU: No data\n",
    "* VAT: No data\n",
    "* COK: No data \n",
    "* ANT: No data\n",
    "* AIA: No data\n",
    "* NFK: No data\n",
    "* WLF: No data\n",
    "* GLP: No data\n",
    "* SPM: No data\n",
    "* SJM: No data"
   ]
  },
  {
   "cell_type": "code",
   "execution_count": 12,
   "metadata": {},
   "outputs": [
    {
     "data": {
      "text/plain": [
       "array(['SRB', 'ESH', 'PSE', 'KWT', 'GUF', 'NIU', 'VAT', 'COK', 'ERI',\n",
       "       'ANT', 'AIA', 'NFK', 'WLF', 'GLP', 'SPM', 'SJM'], dtype=object)"
      ]
     },
     "execution_count": 12,
     "metadata": {},
     "output_type": "execute_result"
    }
   ],
   "source": [
    "df_timeseries.loc[df_timeseries['share'].isnull() & (df_timeseries['year'] >= 1960) & (df_timeseries['origin'] != \"Various/Unknown\") & (df_timeseries['origin'] != \"Stateless\")]['iso-origin'].unique()"
   ]
  },
  {
   "cell_type": "markdown",
   "metadata": {},
   "source": [
    "Fix missing data"
   ]
  },
  {
   "cell_type": "code",
   "execution_count": 13,
   "metadata": {},
   "outputs": [],
   "source": [
    "# SRB\n",
    "for index, edge in df_timeseries.loc[(df_timeseries['iso-origin'] == 'SRB') & (df_timeseries['year'] <= 1989)].iterrows():\n",
    "        year = str(edge['year'])\n",
    "        share = edge['value'] / 7586000 # From 1990 (world_population_by_year.csv)\n",
    "        df_timeseries.loc[index,'share'] = share\n",
    "        \n",
    "# KWT\n",
    "for index, edge in df_timeseries.loc[(df_timeseries['iso-origin'] == 'KWT') & (df_timeseries['year'] >= 1992) & (df_timeseries['year'] <= 1994)].iterrows():\n",
    "        year = str(edge['year'])\n",
    "        share = edge['value'] / ((2035661 + 1610651) / 2) # Average of 1991 and 1995 (world_population_by_year.csv)\n",
    "        df_timeseries.loc[index,'share'] = share\n",
    "        \n",
    "# ERI\n",
    "for index, edge in df_timeseries.loc[(df_timeseries['iso-origin'] == 'ERI') & (df_timeseries['year'] >= 2012)].iterrows():\n",
    "        year = str(edge['year'])\n",
    "        share = edge['value'] / 4474690 # From 2011 (world_population_by_year.csv)\n",
    "        df_timeseries.loc[index,'share'] = share\n",
    "        \n",
    "# PSE\n",
    "for index, edge in df_timeseries.loc[(df_timeseries['iso-origin'] == 'PSE') & (df_timeseries['year'] >= 1960)].iterrows():\n",
    "        year = str(edge['year'])\n",
    "        share = edge['value'] / 4816503 # Source: https://en.wikipedia.org/wiki/State_of_Palestine (Accessed February 14, 2019)\n",
    "        df_timeseries.loc[index,'share'] = share\n",
    "\n",
    "# ESH\n",
    "for index, edge in df_timeseries.loc[(df_timeseries['iso-origin'] == 'ESH') & (df_timeseries['year'] >= 1960)].iterrows():\n",
    "        year = str(edge['year'])\n",
    "        share = edge['value'] / 538755 # Source: https://en.wikipedia.org/wiki/Western_Sahara (Accessed February 14, 2019)\n",
    "        df_timeseries.loc[index,'share'] = share\n",
    "\n",
    "# GUF\n",
    "for index, edge in df_timeseries.loc[(df_timeseries['iso-origin'] == 'GUF') & (df_timeseries['year'] >= 1960)].iterrows():\n",
    "        year = str(edge['year'])\n",
    "        share = edge['value'] / 296711 # Source: https://en.wikipedia.org/wiki/French_Guiana (Accessed February 12, 2019)\n",
    "        df_timeseries.loc[index,'share'] = share\n",
    "\n",
    "# NIU\n",
    "for index, edge in df_timeseries.loc[(df_timeseries['iso-origin'] == 'NIU') & (df_timeseries['year'] >= 1960)].iterrows():\n",
    "        year = str(edge['year'])\n",
    "        share = edge['value'] / 1624 # Source: https://en.wikipedia.org/wiki/Niue (Accessed February 14, 2019)\n",
    "        df_timeseries.loc[index,'share'] = share\n",
    "\n",
    "# VAT\n",
    "for index, edge in df_timeseries.loc[(df_timeseries['iso-origin'] == 'VAT') & (df_timeseries['year'] >= 1960)].iterrows():\n",
    "        year = str(edge['year'])\n",
    "        share = edge['value'] / 1000 # Source: https://en.wikipedia.org/wiki/Vatican_City (Accessed February 14, 2019)\n",
    "        df_timeseries.loc[index,'share'] = share\n",
    "\n",
    "# COK\n",
    "for index, edge in df_timeseries.loc[(df_timeseries['iso-origin'] == 'COK') & (df_timeseries['year'] >= 1960)].iterrows():\n",
    "        year = str(edge['year'])\n",
    "        share = edge['value'] / 17459 # Source: https://en.wikipedia.org/wiki/Cook_Islands (Accessed February 12, 2019)\n",
    "        df_timeseries.loc[index,'share'] = share\n",
    "\n",
    "# ANT\n",
    "for index, edge in df_timeseries.loc[(df_timeseries['iso-origin'] == 'ANT') & (df_timeseries['year'] >= 1960)].iterrows():\n",
    "        year = str(edge['year'])\n",
    "        share = edge['value'] / 304759 # Source: https://en.wikipedia.org/wiki/Netherlands_Antilles (Accessed February 12, 2019)\n",
    "        df_timeseries.loc[index,'share'] = share\n",
    "        \n",
    "# AIA\n",
    "for index, edge in df_timeseries.loc[(df_timeseries['iso-origin'] == 'AIA') & (df_timeseries['year'] >= 1960)].iterrows():\n",
    "        year = str(edge['year'])\n",
    "        share = edge['value'] / 14764 # Source: https://en.wikipedia.org/wiki/Anguilla (Accessed February 12, 2019)\n",
    "        df_timeseries.loc[index,'share'] = share\n",
    "        \n",
    "# NFK\n",
    "for index, edge in df_timeseries.loc[(df_timeseries['iso-origin'] == 'NFK') & (df_timeseries['year'] >= 1960)].iterrows():\n",
    "        year = str(edge['year'])\n",
    "        share = edge['value'] / 1748 # Source: https://en.wikipedia.org/wiki/Norfolk_Island (Accessed February 14, 2019)\n",
    "        df_timeseries.loc[index,'share'] = share\n",
    "\n",
    "# WLF\n",
    "for index, edge in df_timeseries.loc[(df_timeseries['iso-origin'] == 'WLF') & (df_timeseries['year'] >= 1960)].iterrows():\n",
    "        year = str(edge['year'])\n",
    "        share = edge['value'] / 11899 # Source: https://en.wikipedia.org/wiki/Wallis_and_Futuna (Accessed February 14, 2019)\n",
    "        df_timeseries.loc[index,'share'] = share\n",
    "\n",
    "# GLP\n",
    "for index, edge in df_timeseries.loc[(df_timeseries['iso-origin'] == 'GLP') & (df_timeseries['year'] >= 1960)].iterrows():\n",
    "        year = str(edge['year'])\n",
    "        share = edge['value'] / 394110 # Source: https://en.wikipedia.org/wiki/Guadeloupe (Accessed February 14, 2019)\n",
    "        df_timeseries.loc[index,'share'] = share\n",
    "\n",
    "# SPM\n",
    "for index, edge in df_timeseries.loc[(df_timeseries['iso-origin'] == 'SPM') & (df_timeseries['year'] >= 1960)].iterrows():\n",
    "        year = str(edge['year'])\n",
    "        share = edge['value'] / 6080 # Source: https://en.wikipedia.org/wiki/Saint_Pierre_and_Miquelon (Accessed February 14, 2019)\n",
    "        df_timeseries.loc[index,'share'] = share\n",
    "\n",
    "# SJM\n",
    "for index, edge in df_timeseries.loc[(df_timeseries['iso-origin'] == 'SJM') & (df_timeseries['year'] >= 1960)].iterrows():\n",
    "        year = str(edge['year'])\n",
    "        share = edge['value'] / 2572 # Source: https://no.wikipedia.org/wiki/Svalbard_og_Jan_Mayen (Accessed February 14, 2019)\n",
    "        df_timeseries.loc[index,'share'] = share"
   ]
  },
  {
   "cell_type": "code",
   "execution_count": 15,
   "metadata": {},
   "outputs": [
    {
     "data": {
      "text/plain": [
       "array([], dtype=object)"
      ]
     },
     "execution_count": 15,
     "metadata": {},
     "output_type": "execute_result"
    }
   ],
   "source": [
    "df_timeseries.loc[df_timeseries['share'].isnull() & (df_timeseries['year'] >= 1960) & (df_timeseries['origin'] != \"Various/Unknown\") & (df_timeseries['origin'] != \"Stateless\")]['iso-origin'].unique()"
   ]
  },
  {
   "cell_type": "markdown",
   "metadata": {},
   "source": [
    "Filter out data pre 2008 and without ISO code."
   ]
  },
  {
   "cell_type": "code",
   "execution_count": 16,
   "metadata": {},
   "outputs": [
    {
     "data": {
      "text/html": [
       "<div>\n",
       "<style scoped>\n",
       "    .dataframe tbody tr th:only-of-type {\n",
       "        vertical-align: middle;\n",
       "    }\n",
       "\n",
       "    .dataframe tbody tr th {\n",
       "        vertical-align: top;\n",
       "    }\n",
       "\n",
       "    .dataframe thead th {\n",
       "        text-align: right;\n",
       "    }\n",
       "</style>\n",
       "<table border=\"1\" class=\"dataframe\">\n",
       "  <thead>\n",
       "    <tr style=\"text-align: right;\">\n",
       "      <th></th>\n",
       "      <th>year</th>\n",
       "      <th>destination</th>\n",
       "      <th>origin</th>\n",
       "      <th>type</th>\n",
       "      <th>value</th>\n",
       "      <th>iso-origin</th>\n",
       "      <th>iso-destination</th>\n",
       "      <th>share</th>\n",
       "    </tr>\n",
       "  </thead>\n",
       "  <tbody>\n",
       "    <tr>\n",
       "      <th>81997</th>\n",
       "      <td>2008</td>\n",
       "      <td>Afghanistan</td>\n",
       "      <td>Afghanistan</td>\n",
       "      <td>Internally displaced persons</td>\n",
       "      <td>230670</td>\n",
       "      <td>AFG</td>\n",
       "      <td>AFG</td>\n",
       "      <td>8.451298e-03</td>\n",
       "    </tr>\n",
       "    <tr>\n",
       "      <th>81998</th>\n",
       "      <td>2008</td>\n",
       "      <td>Afghanistan</td>\n",
       "      <td>Afghanistan</td>\n",
       "      <td>Returned IDPs</td>\n",
       "      <td>6453</td>\n",
       "      <td>AFG</td>\n",
       "      <td>AFG</td>\n",
       "      <td>2.364253e-04</td>\n",
       "    </tr>\n",
       "    <tr>\n",
       "      <th>81999</th>\n",
       "      <td>2008</td>\n",
       "      <td>Afghanistan</td>\n",
       "      <td>Eritrea</td>\n",
       "      <td>Asylum-seekers</td>\n",
       "      <td>1</td>\n",
       "      <td>ERI</td>\n",
       "      <td>AFG</td>\n",
       "      <td>2.362594e-07</td>\n",
       "    </tr>\n",
       "    <tr>\n",
       "      <th>82000</th>\n",
       "      <td>2008</td>\n",
       "      <td>Afghanistan</td>\n",
       "      <td>Iran (Islamic Rep. of)</td>\n",
       "      <td>Refugees (incl. refugee-like situations)</td>\n",
       "      <td>30</td>\n",
       "      <td>IRN</td>\n",
       "      <td>AFG</td>\n",
       "      <td>4.118303e-07</td>\n",
       "    </tr>\n",
       "    <tr>\n",
       "      <th>82001</th>\n",
       "      <td>2008</td>\n",
       "      <td>Afghanistan</td>\n",
       "      <td>Iran (Islamic Rep. of)</td>\n",
       "      <td>Asylum-seekers</td>\n",
       "      <td>4</td>\n",
       "      <td>IRN</td>\n",
       "      <td>AFG</td>\n",
       "      <td>5.491070e-08</td>\n",
       "    </tr>\n",
       "  </tbody>\n",
       "</table>\n",
       "</div>"
      ],
      "text/plain": [
       "       year  destination                  origin  \\\n",
       "81997  2008  Afghanistan             Afghanistan   \n",
       "81998  2008  Afghanistan             Afghanistan   \n",
       "81999  2008  Afghanistan                 Eritrea   \n",
       "82000  2008  Afghanistan  Iran (Islamic Rep. of)   \n",
       "82001  2008  Afghanistan  Iran (Islamic Rep. of)   \n",
       "\n",
       "                                           type   value iso-origin  \\\n",
       "81997              Internally displaced persons  230670        AFG   \n",
       "81998                             Returned IDPs    6453        AFG   \n",
       "81999                            Asylum-seekers       1        ERI   \n",
       "82000  Refugees (incl. refugee-like situations)      30        IRN   \n",
       "82001                            Asylum-seekers       4        IRN   \n",
       "\n",
       "      iso-destination         share  \n",
       "81997             AFG  8.451298e-03  \n",
       "81998             AFG  2.364253e-04  \n",
       "81999             AFG  2.362594e-07  \n",
       "82000             AFG  4.118303e-07  \n",
       "82001             AFG  5.491070e-08  "
      ]
     },
     "execution_count": 16,
     "metadata": {},
     "output_type": "execute_result"
    }
   ],
   "source": [
    "df_filtered = df_timeseries[(df_timeseries['year'] >= 2008) & (df_timeseries['iso-origin'].notnull()) & (df_timeseries['iso-destination'].notnull())]\n",
    "\n",
    "df_filtered.head()"
   ]
  },
  {
   "cell_type": "code",
   "execution_count": 18,
   "metadata": {},
   "outputs": [],
   "source": [
    "df_filtered.to_csv('../data/unhcr_time_series_normalized.csv', encoding='utf-8', index=False)"
   ]
  }
 ],
 "metadata": {
  "kernelspec": {
   "display_name": "Python 3",
   "language": "python",
   "name": "python3"
  },
  "language_info": {
   "codemirror_mode": {
    "name": "ipython",
    "version": 3
   },
   "file_extension": ".py",
   "mimetype": "text/x-python",
   "name": "python",
   "nbconvert_exporter": "python",
   "pygments_lexer": "ipython3",
   "version": "3.6.5"
  }
 },
 "nbformat": 4,
 "nbformat_minor": 2
}
