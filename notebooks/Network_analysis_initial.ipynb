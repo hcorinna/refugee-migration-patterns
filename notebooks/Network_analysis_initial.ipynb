{
 "cells": [
  {
   "cell_type": "markdown",
   "metadata": {},
   "source": [
    "#### Imports\n",
    "see time_series_inital_EDA.ipynb for preprocessing of \"unhcr_refugees_08-16.csv\""
   ]
  },
  {
   "cell_type": "code",
   "execution_count": 1,
   "metadata": {},
   "outputs": [],
   "source": [
    "import pandas as pd\n",
    "from pandas import DataFrame\n",
    "import numpy as np\n",
    "\n",
    "from matplotlib import pyplot as plt\n",
    "%matplotlib inline\n",
    "import seaborn as sns\n",
    "import networkx as nx\n",
    "import powerlaw\n",
    "\n",
    "\n",
    "\n",
    "pd.set_option('display.max_seq_items', None)\n",
    "pd.set_option('display.max_rows', 500)\n",
    "pd.set_option('display.max_columns', 500)\n",
    "pd.set_option('display.width', 1000)\n",
    "\n",
    "import warnings\n",
    "warnings.filterwarnings('ignore')"
   ]
  },
  {
   "cell_type": "code",
   "execution_count": null,
   "metadata": {},
   "outputs": [
    {
     "data": {
      "text/html": [
       "<div>\n",
       "<style scoped>\n",
       "    .dataframe tbody tr th:only-of-type {\n",
       "        vertical-align: middle;\n",
       "    }\n",
       "\n",
       "    .dataframe tbody tr th {\n",
       "        vertical-align: top;\n",
       "    }\n",
       "\n",
       "    .dataframe thead th {\n",
       "        text-align: right;\n",
       "    }\n",
       "</style>\n",
       "<table border=\"1\" class=\"dataframe\">\n",
       "  <thead>\n",
       "    <tr style=\"text-align: right;\">\n",
       "      <th></th>\n",
       "      <th>year</th>\n",
       "      <th>destination</th>\n",
       "      <th>origin</th>\n",
       "      <th>type</th>\n",
       "      <th>value</th>\n",
       "      <th>country_code_origin</th>\n",
       "      <th>name_en_origin</th>\n",
       "      <th>region_code_origin</th>\n",
       "      <th>region_code_en_origin</th>\n",
       "      <th>country_code_destination</th>\n",
       "      <th>name_en_destination</th>\n",
       "      <th>region_code_destination</th>\n",
       "      <th>region_code_en_destination</th>\n",
       "    </tr>\n",
       "  </thead>\n",
       "  <tbody>\n",
       "    <tr>\n",
       "      <th>0</th>\n",
       "      <td>2008</td>\n",
       "      <td>Afghanistan</td>\n",
       "      <td>Iran (Islamic Republic of)</td>\n",
       "      <td>Refugees (incl. refugee-like situations)</td>\n",
       "      <td>30</td>\n",
       "      <td>IRN</td>\n",
       "      <td>Iran (Islamic Republic of)</td>\n",
       "      <td>142.0</td>\n",
       "      <td>Asia</td>\n",
       "      <td>AFG</td>\n",
       "      <td>Afghanistan</td>\n",
       "      <td>142.0</td>\n",
       "      <td>Asia</td>\n",
       "    </tr>\n",
       "    <tr>\n",
       "      <th>1</th>\n",
       "      <td>2008</td>\n",
       "      <td>Afghanistan</td>\n",
       "      <td>Iraq</td>\n",
       "      <td>Refugees (incl. refugee-like situations)</td>\n",
       "      <td>7</td>\n",
       "      <td>IRQ</td>\n",
       "      <td>Iraq</td>\n",
       "      <td>142.0</td>\n",
       "      <td>Asia</td>\n",
       "      <td>AFG</td>\n",
       "      <td>Afghanistan</td>\n",
       "      <td>142.0</td>\n",
       "      <td>Asia</td>\n",
       "    </tr>\n",
       "    <tr>\n",
       "      <th>2</th>\n",
       "      <td>2008</td>\n",
       "      <td>Albania</td>\n",
       "      <td>Algeria</td>\n",
       "      <td>Refugees (incl. refugee-like situations)</td>\n",
       "      <td>1</td>\n",
       "      <td>ALG</td>\n",
       "      <td>Algeria</td>\n",
       "      <td>2.0</td>\n",
       "      <td>Africa</td>\n",
       "      <td>ALB</td>\n",
       "      <td>Albania</td>\n",
       "      <td>150.0</td>\n",
       "      <td>Europe</td>\n",
       "    </tr>\n",
       "    <tr>\n",
       "      <th>3</th>\n",
       "      <td>2008</td>\n",
       "      <td>Albania</td>\n",
       "      <td>China</td>\n",
       "      <td>Refugees (incl. refugee-like situations)</td>\n",
       "      <td>4</td>\n",
       "      <td>CHI</td>\n",
       "      <td>China</td>\n",
       "      <td>142.0</td>\n",
       "      <td>Asia</td>\n",
       "      <td>ALB</td>\n",
       "      <td>Albania</td>\n",
       "      <td>150.0</td>\n",
       "      <td>Europe</td>\n",
       "    </tr>\n",
       "    <tr>\n",
       "      <th>4</th>\n",
       "      <td>2008</td>\n",
       "      <td>Albania</td>\n",
       "      <td>Czech Republic</td>\n",
       "      <td>Refugees (incl. refugee-like situations)</td>\n",
       "      <td>2</td>\n",
       "      <td>CZE</td>\n",
       "      <td>Czech Republic</td>\n",
       "      <td>150.0</td>\n",
       "      <td>Europe</td>\n",
       "      <td>ALB</td>\n",
       "      <td>Albania</td>\n",
       "      <td>150.0</td>\n",
       "      <td>Europe</td>\n",
       "    </tr>\n",
       "  </tbody>\n",
       "</table>\n",
       "</div>"
      ],
      "text/plain": [
       "   year  destination                      origin                                      type  value country_code_origin              name_en_origin  region_code_origin region_code_en_origin country_code_destination name_en_destination  region_code_destination region_code_en_destination\n",
       "0  2008  Afghanistan  Iran (Islamic Republic of)  Refugees (incl. refugee-like situations)     30                 IRN  Iran (Islamic Republic of)               142.0                  Asia                      AFG         Afghanistan                    142.0                       Asia\n",
       "1  2008  Afghanistan                        Iraq  Refugees (incl. refugee-like situations)      7                 IRQ                        Iraq               142.0                  Asia                      AFG         Afghanistan                    142.0                       Asia\n",
       "2  2008      Albania                     Algeria  Refugees (incl. refugee-like situations)      1                 ALG                     Algeria                 2.0                Africa                      ALB             Albania                    150.0                     Europe\n",
       "3  2008      Albania                       China  Refugees (incl. refugee-like situations)      4                 CHI                       China               142.0                  Asia                      ALB             Albania                    150.0                     Europe\n",
       "4  2008      Albania              Czech Republic  Refugees (incl. refugee-like situations)      2                 CZE              Czech Republic               150.0                Europe                      ALB             Albania                    150.0                     Europe"
      ]
     },
     "execution_count": 2,
     "metadata": {},
     "output_type": "execute_result"
    }
   ],
   "source": [
    "df = pd.read_csv(\"../data/unhcr_refugees_08-16.csv\")\n",
    "df.head()"
   ]
  },
  {
   "cell_type": "markdown",
   "metadata": {},
   "source": [
    "#### making a networkx graph"
   ]
  },
  {
   "cell_type": "code",
   "execution_count": null,
   "metadata": {},
   "outputs": [],
   "source": [
    "from_to_values = df.groupby([\"origin\",'destination'])['value'].sum().reset_index().sort_values(\"value\", ascending=False)\n",
    "#print(from_to_values)\n",
    "\n",
    "\n",
    "edge_list=from_to_values[['origin', 'destination', 'value']]\n",
    "edges = list(map(tuple, list(edge_list.values)))\n",
    "DG = nx.DiGraph()\n",
    "DG.add_weighted_edges_from(edges)\n",
    "\n",
    "#print(edges)\n",
    "nx.draw(DG,with_labels=True)\n",
    "\n",
    "plt.show()"
   ]
  },
  {
   "cell_type": "markdown",
   "metadata": {},
   "source": [
    "#### making powerlaw graph for all time refugees per origin country"
   ]
  },
  {
   "cell_type": "code",
   "execution_count": null,
   "metadata": {},
   "outputs": [],
   "source": [
    "origin = df.groupby([\"origin\"])[\"value\"].agg(['sum'])\n",
    "origin = origin.sort_values(['sum'], ascending=False)\n",
    "\n",
    "print(origin)\n",
    "\n",
    "degree_values =  origin['sum'].tolist()   #  sorted(set(degrees.values()))\n",
    "print(degree_values)"
   ]
  },
  {
   "cell_type": "code",
   "execution_count": null,
   "metadata": {},
   "outputs": [],
   "source": [
    "plt.figure(figsize=(18,8));\n",
    "\n",
    "#lables = [r'$x^{-( \\alpha-1)}, \\alpha = 1.11$', \"Empirical data\"]\n",
    "\n",
    "\n",
    "fit = powerlaw.Fit(np.array(degree_values)+1,xmin=1,discrete=False)\n",
    "fit.power_law.plot_ccdf( color= 'b',linestyle='--',label='fit ccdf')\n",
    "fit.plot_ccdf( color= 'r')\n",
    "plt.title('Origin of Refugees')\n",
    "plt.xlabel('Out k = Number of refugees')\n",
    "plt.ylabel('Complementary CDF '+ r'$P(X\\geq k)$')\n",
    "#plt.legend(lables, loc='best', fontsize = 'small')\n",
    "\n",
    "plt.show()\n",
    "print('alpha= ',fit.power_law.alpha,'  sigma= ',fit.power_law.sigma)"
   ]
  },
  {
   "cell_type": "markdown",
   "metadata": {},
   "source": [
    "#### narrowing down to recent years for comparison on refugees per origin country"
   ]
  },
  {
   "cell_type": "code",
   "execution_count": null,
   "metadata": {},
   "outputs": [],
   "source": [
    "df_17 = df[df['year']>=2017]\n",
    "\n",
    "origin = df_17.groupby([\"origin\"])[\"value\"].agg(['sum'])\n",
    "origin = origin.sort_values(['sum'], ascending=False)\n",
    "\n",
    "print(origin)\n",
    "\n",
    "degree_values =  origin['sum'].tolist()   #  sorted(set(degrees.values()))\n",
    "print(degree_values)"
   ]
  },
  {
   "cell_type": "code",
   "execution_count": null,
   "metadata": {},
   "outputs": [],
   "source": [
    "plt.figure(figsize=(18,8));\n",
    "\n",
    "#lables = [r'$x^{-( \\alpha-1)}, \\alpha = 1.11$', \"Empirical data\"]\n",
    "\n",
    "\n",
    "fit = powerlaw.Fit(np.array(degree_values)+1,xmin=1,discrete=False)\n",
    "fit.power_law.plot_ccdf( color= 'b',linestyle='--',label='fit ccdf')\n",
    "fit.plot_ccdf( color= 'r')\n",
    "plt.title('Origin of Refugees')\n",
    "plt.xlabel('Out k = Number of refugees')\n",
    "plt.ylabel('Complementary CDF '+ r'$P(X\\geq k)$')\n",
    "#plt.legend(lables, loc='best', fontsize = 'small')\n",
    "\n",
    "plt.show()\n",
    "print('alpha= ',fit.power_law.alpha,'  sigma= ',fit.power_law.sigma)"
   ]
  },
  {
   "cell_type": "markdown",
   "metadata": {},
   "source": [
    "#### making powerlaw graphs for destination"
   ]
  },
  {
   "cell_type": "code",
   "execution_count": null,
   "metadata": {},
   "outputs": [],
   "source": [
    "destination = df.groupby([\"destination\"])[\"value\"].agg(['sum'])\n",
    "destination = destination.sort_values(['sum'], ascending=False)\n",
    "\n",
    "print(destination)\n",
    "\n",
    "degree_values =  destination['sum'].tolist()   #  sorted(set(degrees.values()))\n",
    "print(degree_values)"
   ]
  },
  {
   "cell_type": "code",
   "execution_count": null,
   "metadata": {},
   "outputs": [],
   "source": [
    "plt.figure(figsize=(18,8));\n",
    "\n",
    "#lables = [r'$x^{-( \\alpha-1)}, \\alpha = 1.11$', \"Empirical data\"]\n",
    "\n",
    "\n",
    "fit = powerlaw.Fit(np.array(degree_values)+1,xmin=1,discrete=False)\n",
    "fit.power_law.plot_ccdf( color= 'b',linestyle='--',label='fit ccdf')\n",
    "fit.plot_ccdf( color= 'r')\n",
    "plt.title('Destination of Refugees')\n",
    "plt.xlabel('In k = Number of refugees')\n",
    "plt.ylabel('Complementary CDF '+ r'$P(X\\geq k)$')\n",
    "#plt.legend(lables, loc='best', fontsize = 'small')\n",
    "\n",
    "plt.show()\n",
    "print('alpha= ',fit.power_law.alpha,'  sigma= ',fit.power_law.sigma)"
   ]
  },
  {
   "cell_type": "markdown",
   "metadata": {},
   "source": [
    "#### narrowing down to see more recent years, refugees per destination country"
   ]
  },
  {
   "cell_type": "code",
   "execution_count": null,
   "metadata": {},
   "outputs": [],
   "source": [
    "destination = df_17.groupby([\"destination\"])[\"value\"].agg(['sum'])\n",
    "destination = destination.sort_values(['sum'], ascending=False)\n",
    "\n",
    "print(destination)\n",
    "\n",
    "degree_values =  destination['sum'].tolist()   #  sorted(set(degrees.values()))\n",
    "print(degree_values)"
   ]
  },
  {
   "cell_type": "code",
   "execution_count": null,
   "metadata": {},
   "outputs": [],
   "source": [
    "plt.figure(figsize=(18,8));\n",
    "\n",
    "#lables = [r'$x^{-( \\alpha-1)}, \\alpha = 1.11$', \"Empirical data\"]\n",
    "\n",
    "\n",
    "fit = powerlaw.Fit(np.array(degree_values)+1,xmin=1,discrete=False)\n",
    "fit.power_law.plot_ccdf( color= 'b',linestyle='--',label='fit ccdf')\n",
    "fit.plot_ccdf( color= 'r')\n",
    "plt.title('Destination of Refugees')\n",
    "plt.xlabel('In k = Number of refugees')\n",
    "plt.ylabel('Complementary CDF '+ r'$P(X\\geq k)$')\n",
    "#plt.legend(lables, loc='best', fontsize = 'small')\n",
    "\n",
    "plt.show()\n",
    "print('alpha= ',fit.power_law.alpha,'  sigma= ',fit.power_law.sigma)"
   ]
  },
  {
   "cell_type": "code",
   "execution_count": null,
   "metadata": {},
   "outputs": [],
   "source": []
  }
 ],
 "metadata": {
  "kernelspec": {
   "display_name": "Python 3",
   "language": "python",
   "name": "python3"
  },
  "language_info": {
   "codemirror_mode": {
    "name": "ipython",
    "version": 3
   },
   "file_extension": ".py",
   "mimetype": "text/x-python",
   "name": "python",
   "nbconvert_exporter": "python",
   "pygments_lexer": "ipython3",
   "version": "3.7.1"
  }
 },
 "nbformat": 4,
 "nbformat_minor": 2
}
