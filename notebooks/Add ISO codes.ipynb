{
 "cells": [
  {
   "cell_type": "markdown",
   "metadata": {},
   "source": [
    "## Add ISO Codes\n",
    "\n",
    "Adds the official ISO 3166-1 alpha-3 country codes to the time series data set."
   ]
  },
  {
   "cell_type": "code",
   "execution_count": 1,
   "metadata": {},
   "outputs": [],
   "source": [
    "import pandas as pd\n",
    "import numpy as np"
   ]
  },
  {
   "cell_type": "code",
   "execution_count": 2,
   "metadata": {},
   "outputs": [],
   "source": [
    "df_country_list = pd.read_csv('../data/country_list.csv')\n",
    "\n",
    "df_countries = pd.read_csv('../data/UNHCR_country_names.csv')\n",
    "df_countries.columns = [\"iso\",\"unhcr\",\"display_titles\",\"display_article\",\"notes\"]\n",
    "\n",
    "df_timeseries = pd.read_csv('../data/unhcr_popstats_export_time_series_all_data.csv', skiprows=3, encoding='latin-1', dtype={\"Value\": object})\n",
    "df_timeseries = df_timeseries.replace(to_replace='*', value='2')\n",
    "df_timeseries['Value'] = df_timeseries['Value'].astype(np.int64)\n",
    "df_timeseries.columns = [\"year\",\"destination\",\"origin\",\"type\",\"value\"]"
   ]
  },
  {
   "cell_type": "markdown",
   "metadata": {},
   "source": [
    "Change country names, so that they match the ones in `UNHCR_country_names.csv`"
   ]
  },
  {
   "cell_type": "code",
   "execution_count": 3,
   "metadata": {},
   "outputs": [],
   "source": [
    "df_timeseries['destination'].replace(\"Palestinian\", \"State of Palestine\", inplace=True)\n",
    "df_timeseries['destination'].replace(\"Dem. People's Rep. of Korea\", \"Rep. of Korea\", inplace=True)\n",
    "\n",
    "df_timeseries['origin'].replace(\"Palestinian\", \"State of Palestine\", inplace=True)\n",
    "df_timeseries['origin'].replace(\"Tibetan\", \"China\", inplace=True) # No international country code for Tibet\n",
    "df_timeseries['origin'].replace(\"Dem. People's Rep. of Korea\", \"Rep. of Korea\", inplace=True)\n",
    "df_timeseries['origin'].replace(\"Holy See (the)\", \"Holy See\", inplace=True)"
   ]
  },
  {
   "cell_type": "code",
   "execution_count": 10,
   "metadata": {},
   "outputs": [
    {
     "data": {
      "text/html": [
       "<div>\n",
       "<style scoped>\n",
       "    .dataframe tbody tr th:only-of-type {\n",
       "        vertical-align: middle;\n",
       "    }\n",
       "\n",
       "    .dataframe tbody tr th {\n",
       "        vertical-align: top;\n",
       "    }\n",
       "\n",
       "    .dataframe thead th {\n",
       "        text-align: right;\n",
       "    }\n",
       "</style>\n",
       "<table border=\"1\" class=\"dataframe\">\n",
       "  <thead>\n",
       "    <tr style=\"text-align: right;\">\n",
       "      <th></th>\n",
       "      <th>year</th>\n",
       "      <th>destination</th>\n",
       "      <th>origin</th>\n",
       "      <th>type</th>\n",
       "      <th>value</th>\n",
       "      <th>iso-origin</th>\n",
       "      <th>iso-destination</th>\n",
       "    </tr>\n",
       "  </thead>\n",
       "  <tbody>\n",
       "    <tr>\n",
       "      <th>0</th>\n",
       "      <td>1951</td>\n",
       "      <td>Australia</td>\n",
       "      <td>Various/Unknown</td>\n",
       "      <td>Refugees (incl. refugee-like situations)</td>\n",
       "      <td>180000</td>\n",
       "      <td>NaN</td>\n",
       "      <td>AUS</td>\n",
       "    </tr>\n",
       "    <tr>\n",
       "      <th>1</th>\n",
       "      <td>1951</td>\n",
       "      <td>Austria</td>\n",
       "      <td>Various/Unknown</td>\n",
       "      <td>Refugees (incl. refugee-like situations)</td>\n",
       "      <td>282000</td>\n",
       "      <td>NaN</td>\n",
       "      <td>AUT</td>\n",
       "    </tr>\n",
       "    <tr>\n",
       "      <th>2</th>\n",
       "      <td>1951</td>\n",
       "      <td>Belgium</td>\n",
       "      <td>Various/Unknown</td>\n",
       "      <td>Refugees (incl. refugee-like situations)</td>\n",
       "      <td>55000</td>\n",
       "      <td>NaN</td>\n",
       "      <td>BEL</td>\n",
       "    </tr>\n",
       "    <tr>\n",
       "      <th>3</th>\n",
       "      <td>1951</td>\n",
       "      <td>Canada</td>\n",
       "      <td>Various/Unknown</td>\n",
       "      <td>Refugees (incl. refugee-like situations)</td>\n",
       "      <td>168511</td>\n",
       "      <td>NaN</td>\n",
       "      <td>CAN</td>\n",
       "    </tr>\n",
       "    <tr>\n",
       "      <th>4</th>\n",
       "      <td>1951</td>\n",
       "      <td>China, Hong Kong SAR</td>\n",
       "      <td>Various/Unknown</td>\n",
       "      <td>Refugees (incl. refugee-like situations)</td>\n",
       "      <td>30000</td>\n",
       "      <td>NaN</td>\n",
       "      <td>HKG</td>\n",
       "    </tr>\n",
       "  </tbody>\n",
       "</table>\n",
       "</div>"
      ],
      "text/plain": [
       "   year           destination           origin  \\\n",
       "0  1951             Australia  Various/Unknown   \n",
       "1  1951               Austria  Various/Unknown   \n",
       "2  1951               Belgium  Various/Unknown   \n",
       "3  1951                Canada  Various/Unknown   \n",
       "4  1951  China, Hong Kong SAR  Various/Unknown   \n",
       "\n",
       "                                       type   value iso-origin iso-destination  \n",
       "0  Refugees (incl. refugee-like situations)  180000        NaN             AUS  \n",
       "1  Refugees (incl. refugee-like situations)  282000        NaN             AUT  \n",
       "2  Refugees (incl. refugee-like situations)   55000        NaN             BEL  \n",
       "3  Refugees (incl. refugee-like situations)  168511        NaN             CAN  \n",
       "4  Refugees (incl. refugee-like situations)   30000        NaN             HKG  "
      ]
     },
     "execution_count": 10,
     "metadata": {},
     "output_type": "execute_result"
    }
   ],
   "source": [
    "# Use UNHCR codes from country_list.csv\n",
    "for index, country in df_country_list.iterrows():\n",
    "    df_timeseries.loc[df_timeseries['origin'] == country['name_en'], 'iso-origin'] = country['country_code']\n",
    "    df_timeseries.loc[df_timeseries['destination'] == country['name_en'], 'iso-destination'] = country['country_code']\n",
    "    \n",
    "# Overwrite codes with UNHCR_country_names.csv when possible\n",
    "for index, country in df_countries.iterrows():\n",
    "    df_timeseries.loc[df_timeseries['origin'] == country['unhcr'], 'iso-origin'] = country['iso']\n",
    "    df_timeseries.loc[df_timeseries['destination'] == country['unhcr'], 'iso-destination'] = country['iso']\n",
    "\n",
    "# Manual fixes\n",
    "df_timeseries['iso-destination'].replace(\"WES\", \"WSM\", inplace=True) # Samoa\n",
    "df_timeseries['iso-destination'].replace(\"SEY\", \"SYC\", inplace=True) # Seychelles\n",
    "df_timeseries['iso-destination'].replace(\"WSH\", \"ESH\", inplace=True) # Western Sahara\n",
    "df_timeseries['iso-destination'].replace(\"PUE\", \"PRI\", inplace=True) # Puerto Rico\n",
    "df_timeseries['iso-destination'].replace(\"SMA\", \"SMR\", inplace=True) # San Marino\n",
    "df_timeseries['iso-destination'].replace(\"BER\", \"BMU\", inplace=True) # Bermuda\n",
    "df_timeseries['iso-destination'].replace(\"FPO\", \"PYF\", inplace=True) # French Polynesia\n",
    "df_timeseries['iso-destination'].replace(\"FNC\", \"NCL\", inplace=True) # New Caledonia\n",
    "\n",
    "df_timeseries['iso-origin'].replace(\"WES\", \"WSM\", inplace=True) # Samoa\n",
    "df_timeseries['iso-origin'].replace(\"SEY\", \"SYC\", inplace=True) # Seychelles\n",
    "df_timeseries['iso-origin'].replace(\"WSH\", \"ESH\", inplace=True) # Western Sahara\n",
    "df_timeseries['iso-origin'].replace(\"PUE\", \"PRI\", inplace=True) # Puerto Rico\n",
    "df_timeseries['iso-origin'].replace(\"SMA\", \"SMR\", inplace=True) # San Marino\n",
    "df_timeseries['iso-origin'].replace(\"BER\", \"BMU\", inplace=True) # Bermuda\n",
    "df_timeseries['iso-origin'].replace(\"FPO\", \"PYF\", inplace=True) # French Polynesia\n",
    "df_timeseries['iso-origin'].replace(\"FNC\", \"NCL\", inplace=True) # New Caledonia\n",
    "\n",
    "df_timeseries.loc[df_timeseries['origin'] == 'Guadeloupe', 'iso-origin'] = 'GLP'\n",
    "df_timeseries.loc[df_timeseries['origin'] == 'Norfolk Island', 'iso-origin'] = 'NFK'\n",
    "df_timeseries.loc[df_timeseries['origin'].str.startswith('Wallis'), 'iso-origin'] = 'WLF'\n",
    "df_timeseries.loc[df_timeseries['origin'] == 'Svalbard and Jan Mayen', 'iso-origin'] = 'SJM'\n",
    "df_timeseries.loc[df_timeseries['origin'] == 'Saint-Pierre-et-Miquelon', 'iso-origin'] = 'SPM'\n",
    "df_timeseries.loc[df_timeseries['origin'] == 'American Samoa', 'iso-origin'] = 'ASM'\n",
    "df_timeseries.loc[df_timeseries['origin'] == 'Guam', 'iso-origin'] = 'GUM'\n",
    "\n",
    "df_timeseries.head()"
   ]
  },
  {
   "cell_type": "markdown",
   "metadata": {},
   "source": [
    "Check whether there are any countries for which we do not have a code (except `'Various/Unknown'` and `'Stateless'`)\n",
    "-> We have all codes"
   ]
  },
  {
   "cell_type": "code",
   "execution_count": 11,
   "metadata": {},
   "outputs": [
    {
     "data": {
      "text/html": [
       "<div>\n",
       "<style scoped>\n",
       "    .dataframe tbody tr th:only-of-type {\n",
       "        vertical-align: middle;\n",
       "    }\n",
       "\n",
       "    .dataframe tbody tr th {\n",
       "        vertical-align: top;\n",
       "    }\n",
       "\n",
       "    .dataframe thead th {\n",
       "        text-align: right;\n",
       "    }\n",
       "</style>\n",
       "<table border=\"1\" class=\"dataframe\">\n",
       "  <thead>\n",
       "    <tr style=\"text-align: right;\">\n",
       "      <th></th>\n",
       "      <th>year</th>\n",
       "      <th>destination</th>\n",
       "      <th>origin</th>\n",
       "      <th>type</th>\n",
       "      <th>value</th>\n",
       "      <th>iso-origin</th>\n",
       "      <th>iso-destination</th>\n",
       "    </tr>\n",
       "  </thead>\n",
       "  <tbody>\n",
       "  </tbody>\n",
       "</table>\n",
       "</div>"
      ],
      "text/plain": [
       "Empty DataFrame\n",
       "Columns: [year, destination, origin, type, value, iso-origin, iso-destination]\n",
       "Index: []"
      ]
     },
     "execution_count": 11,
     "metadata": {},
     "output_type": "execute_result"
    }
   ],
   "source": [
    "df_timeseries.loc[df_timeseries['iso-destination'].isnull() & (df_timeseries['destination'] != \"Various/Unknown\")]"
   ]
  },
  {
   "cell_type": "code",
   "execution_count": 12,
   "metadata": {},
   "outputs": [
    {
     "data": {
      "text/html": [
       "<div>\n",
       "<style scoped>\n",
       "    .dataframe tbody tr th:only-of-type {\n",
       "        vertical-align: middle;\n",
       "    }\n",
       "\n",
       "    .dataframe tbody tr th {\n",
       "        vertical-align: top;\n",
       "    }\n",
       "\n",
       "    .dataframe thead th {\n",
       "        text-align: right;\n",
       "    }\n",
       "</style>\n",
       "<table border=\"1\" class=\"dataframe\">\n",
       "  <thead>\n",
       "    <tr style=\"text-align: right;\">\n",
       "      <th></th>\n",
       "      <th>year</th>\n",
       "      <th>destination</th>\n",
       "      <th>origin</th>\n",
       "      <th>type</th>\n",
       "      <th>value</th>\n",
       "      <th>iso-origin</th>\n",
       "      <th>iso-destination</th>\n",
       "    </tr>\n",
       "  </thead>\n",
       "  <tbody>\n",
       "  </tbody>\n",
       "</table>\n",
       "</div>"
      ],
      "text/plain": [
       "Empty DataFrame\n",
       "Columns: [year, destination, origin, type, value, iso-origin, iso-destination]\n",
       "Index: []"
      ]
     },
     "execution_count": 12,
     "metadata": {},
     "output_type": "execute_result"
    }
   ],
   "source": [
    "df_timeseries.loc[df_timeseries['iso-origin'].isnull() & (df_timeseries['origin'] != \"Various/Unknown\") & (df_timeseries['origin'] != \"Stateless\")]"
   ]
  },
  {
   "cell_type": "code",
   "execution_count": 13,
   "metadata": {},
   "outputs": [],
   "source": [
    "df_timeseries.to_csv('../data/unhcr_time_series_iso.csv', encoding='utf-8', index=False)"
   ]
  }
 ],
 "metadata": {
  "kernelspec": {
   "display_name": "Python 3",
   "language": "python",
   "name": "python3"
  },
  "language_info": {
   "codemirror_mode": {
    "name": "ipython",
    "version": 3
   },
   "file_extension": ".py",
   "mimetype": "text/x-python",
   "name": "python",
   "nbconvert_exporter": "python",
   "pygments_lexer": "ipython3",
   "version": "3.6.5"
  }
 },
 "nbformat": 4,
 "nbformat_minor": 2
}
