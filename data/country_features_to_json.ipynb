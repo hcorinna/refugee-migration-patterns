{
 "cells": [
  {
   "cell_type": "code",
   "execution_count": 1,
   "metadata": {},
   "outputs": [
    {
     "data": {
      "text/plain": [
       "1352418"
      ]
     },
     "execution_count": 1,
     "metadata": {},
     "output_type": "execute_result"
    }
   ],
   "source": [
    "import pandas as pd\n",
    "import os\n",
    "import json\n",
    "\n",
    "csv_input = 'country_year_features_merged.csv'\n",
    "output = '../Visualization/src/data/country_features.json'\n",
    "\n",
    "csv = pd.read_csv(csv_input)\n",
    "\n",
    "data = [\n",
    "    row[['country', 'iso', 'year', 'clustering_coeff','sorted_tri','indegree_centrality','outdegree_centrality','closeness_centrality','out_closeness_centrality','betweenness_centrality','eigenvector_centrality','eigenvector_centrality_out','index','nxc','outflow','inflow','share','asylum_outflow','asylum_inflow','population','hdi_value', 'hdi_rank', 'fgi_value', 'fgi_rank', 'hfi_value', 'hfi_rank']].to_json()\n",
    "    for index, row in csv.iterrows()\n",
    "]\n",
    "\n",
    "open(\n",
    "    file=output,\n",
    "    mode='w+',\n",
    "    encoding='utf-8'\n",
    ").write(json.dumps(data))"
   ]
  }
 ],
 "metadata": {
  "kernelspec": {
   "display_name": "Python 3",
   "language": "python",
   "name": "python3"
  },
  "language_info": {
   "codemirror_mode": {
    "name": "ipython",
    "version": 3
   },
   "file_extension": ".py",
   "mimetype": "text/x-python",
   "name": "python",
   "nbconvert_exporter": "python",
   "pygments_lexer": "ipython3",
   "version": "3.6.5"
  }
 },
 "nbformat": 4,
 "nbformat_minor": 2
}
